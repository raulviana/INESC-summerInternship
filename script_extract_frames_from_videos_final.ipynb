{
  "nbformat": 4,
  "nbformat_minor": 0,
  "metadata": {
    "colab": {
      "name": "Welcome To Colaboratory",
      "provenance": [],
      "collapsed_sections": [],
      "include_colab_link": true
    },
    "kernelspec": {
      "display_name": "Python 3",
      "name": "python3"
    }
  },
  "cells": [
    {
      "cell_type": "markdown",
      "metadata": {
        "id": "view-in-github",
        "colab_type": "text"
      },
      "source": [
        "<a href=\"https://colab.research.google.com/github/raulviana/INESC-summerInternship/blob/main/script_extract_frames_from_videos_final.ipynb\" target=\"_parent\"><img src=\"https://colab.research.google.com/assets/colab-badge.svg\" alt=\"Open In Colab\"/></a>"
      ]
    },
    {
      "cell_type": "markdown",
      "metadata": {
        "id": "6gEyhyZU8qoy"
      },
      "source": [
        "# Script para extrair frames dos videos\n",
        "## O fps dos videos está a ser reduzido para metade"
      ]
    },
    {
      "cell_type": "markdown",
      "metadata": {
        "id": "DvKm7Pwczo1J"
      },
      "source": [
        ""
      ]
    },
    {
      "cell_type": "code",
      "metadata": {
        "id": "Mmo2CMAM8365"
      },
      "source": [
        "import torch, torchvision\n",
        "import torchvision.transforms as transforms\n",
        "import cv2\n",
        "import os\n",
        "from os import path\n",
        "import json"
      ],
      "execution_count": 6,
      "outputs": []
    },
    {
      "cell_type": "code",
      "metadata": {
        "id": "AtVWJ4hTolWv",
        "colab": {
          "base_uri": "https://localhost:8080/"
        },
        "outputId": "0b58d794-3b01-497c-8458-01a6605626d4"
      },
      "source": [
        "from google.colab import drive\n",
        "drive.mount('/content/drive')"
      ],
      "execution_count": 2,
      "outputs": [
        {
          "output_type": "stream",
          "text": [
            "Mounted at /content/drive\n"
          ],
          "name": "stdout"
        }
      ]
    },
    {
      "cell_type": "code",
      "metadata": {
        "id": "mIwLHV9EPLNT"
      },
      "source": [
        "from distutils.dir_util import copy_tree\n",
        "\n",
        "# copy subdirectory example\n",
        "fromDirectory = \"/content/drive/MyDrive/hmdb51_org\"\n",
        "toDirectory = \"/home/dataset\"\n",
        "\n",
        "copy_tree(fromDirectory, toDirectory, verbose=True)"
      ],
      "execution_count": null,
      "outputs": []
    },
    {
      "cell_type": "code",
      "metadata": {
        "id": "RZUiWdUY_mZ6"
      },
      "source": [
        "\n",
        "\n",
        "def extract_frames(file_path, target_dir):\n",
        "    if not os.path.exists(target_dir):\n",
        "        os.makedirs(target_dir)\n",
        "\n",
        "    vidcap = cv2.VideoCapture(file_path)\n",
        "    success, image = vidcap.read()\n",
        "    new_fps = int(vidcap.get(cv2.CAP_PROP_FPS) * 0.4)\n",
        "    if new_fps != 0 or new_fps:\n",
        "      ratio = int(vidcap.get(cv2.CAP_PROP_FPS) // new_fps)\n",
        "    else:\n",
        "      ratio = 10\n",
        "\n",
        "    count = 0\n",
        "    frame_count = 0\n",
        "    while success:\n",
        "      frame_path = os.path.join(target_dir, f'{count}.jpg')\n",
        "      if frame_count % ratio == 0 :\n",
        "        cv2.imwrite(frame_path, image)     # save frame as JPEG file\n",
        "        success, image = vidcap.read()\n",
        "        count += 1\n",
        "      frame_count += 1\n",
        "\n",
        "\n",
        "root = '/home/dataset'\n",
        "frame_root = '/home/hmdb51_org_frames'\n",
        "labels_path = '/home/hmdb51_org_frames/labels.csv'\n",
        "class_name_to_label_path = '/home/hmdb51_org_frames/class_name_to_label.json'\n",
        "\n",
        "# read files\n",
        "files = []\n",
        "\n",
        "for class_name in os.listdir(root):\n",
        "    for video_name in os.listdir(os.path.join(root, class_name)):\n",
        "        files.append([os.path.join(class_name, video_name), class_name])\n",
        "\n",
        "# normalize labels\n",
        "class_name_to_label = {}\n",
        "current_label = -1\n",
        "\n",
        "for vid in files:\n",
        "    label = class_name_to_label.get(vid[1], -1)\n",
        "\n",
        "    if label == -1:\n",
        "        current_label += 1\n",
        "        class_name_to_label[vid[1]] = current_label\n",
        "        label = current_label\n",
        "\n",
        "    vid[1] = label\n",
        "\n",
        "\n",
        "# save file paths\n",
        "if not os.path.exists(os.path.split(labels_path)[0]):\n",
        "    os.makedirs(os.path.split(labels_path)[0])\n",
        "\n",
        "f = open(labels_path, 'w')\n",
        "\n",
        "f.write('path,label\\n')\n",
        "\n",
        "for vid in files:\n",
        "    f.write(f'{vid[0]},{vid[1]}\\n')\n",
        "\n",
        "f.close()\n",
        "\n",
        "# save label normalization\n",
        "if not os.path.exists(os.path.split(class_name_to_label_path)[0]):\n",
        "    os.makedirs(os.path.split(class_name_to_label_path)[0])\n",
        "\n",
        "with open(class_name_to_label_path, 'w') as json_file:\n",
        "    json.dump(class_name_to_label, json_file, indent=4)\n",
        "\n",
        "# extract frames\n",
        "for i, vid in enumerate(files):\n",
        "    file_path = os.path.join(root, vid[0])\n",
        "    target_dir = os.path.join(frame_root, vid[0])\n",
        "\n",
        "    extract_frames(file_path, target_dir)\n",
        "\n",
        "    print(f'{i+1}/{len(files)}')"
      ],
      "execution_count": null,
      "outputs": []
    },
    {
      "cell_type": "code",
      "metadata": {
        "id": "0NR5G9JfaM-e"
      },
      "source": [
        "# copy subdirectory example\n",
        "\n",
        "\n",
        "copy_tree('/home/hmdb51_org_frames', '/content/drive/MyDrive/hmdb51_org_frames', verbose=True)"
      ],
      "execution_count": null,
      "outputs": []
    }
  ]
}