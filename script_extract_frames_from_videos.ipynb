{
  "nbformat": 4,
  "nbformat_minor": 0,
  "metadata": {
    "colab": {
      "name": "Welcome To Colaboratory",
      "provenance": [],
      "collapsed_sections": [],
      "include_colab_link": true
    },
    "kernelspec": {
      "display_name": "Python 3",
      "name": "python3"
    }
  },
  "cells": [
    {
      "cell_type": "markdown",
      "metadata": {
        "id": "view-in-github",
        "colab_type": "text"
      },
      "source": [
        "<a href=\"https://colab.research.google.com/github/raulviana/INESC-summerInternship/blob/main/script_extract_frames_from_videos.ipynb\" target=\"_parent\"><img src=\"https://colab.research.google.com/assets/colab-badge.svg\" alt=\"Open In Colab\"/></a>"
      ]
    },
    {
      "cell_type": "markdown",
      "metadata": {
        "id": "6gEyhyZU8qoy"
      },
      "source": [
        "# Script para extrair frames dos videos\n",
        "## O fps dos videos está a ser reduzido para metade"
      ]
    },
    {
      "cell_type": "markdown",
      "metadata": {
        "id": "DvKm7Pwczo1J"
      },
      "source": [
        ""
      ]
    },
    {
      "cell_type": "code",
      "metadata": {
        "id": "Mmo2CMAM8365"
      },
      "source": [
        "import torch, torchvision\n",
        "import torchvision.transforms as transforms\n",
        "import cv2\n",
        "import os\n",
        "from os import path\n",
        "import json"
      ],
      "execution_count": 6,
      "outputs": []
    },
    {
      "cell_type": "code",
      "metadata": {
        "id": "AtVWJ4hTolWv",
        "colab": {
          "base_uri": "https://localhost:8080/"
        },
        "outputId": "0b58d794-3b01-497c-8458-01a6605626d4"
      },
      "source": [
        "from google.colab import drive\n",
        "drive.mount('/content/drive')"
      ],
      "execution_count": 2,
      "outputs": [
        {
          "output_type": "stream",
          "text": [
            "Mounted at /content/drive\n"
          ],
          "name": "stdout"
        }
      ]
    },
    {
      "cell_type": "code",
      "metadata": {
        "id": "mIwLHV9EPLNT"
      },
      "source": [
        "from distutils.dir_util import copy_tree\n",
        "\n",
        "# copy subdirectory example\n",
        "fromDirectory = \"/content/drive/MyDrive/hmdb51_org\"\n",
        "toDirectory = \"/home/dataset\"\n",
        "\n",
        "copy_tree(fromDirectory, toDirectory, verbose=True)"
      ],
      "execution_count": null,
      "outputs": []
    },
    {
      "cell_type": "code",
      "metadata": {
        "colab": {
          "base_uri": "https://localhost:8080/",
          "height": 1000
        },
        "id": "RZUiWdUY_mZ6",
        "outputId": "de0098dc-366c-4fd4-bdaa-3a3c20ec6cf8"
      },
      "source": [
        "\n",
        "\n",
        "def extract_frames(file_path, target_dir):\n",
        "    if not os.path.exists(target_dir):\n",
        "        os.makedirs(target_dir)\n",
        "\n",
        "    vidcap = cv2.VideoCapture(file_path)\n",
        "    success, image = vidcap.read()\n",
        "    count = 0\n",
        " \n",
        "    while success:\n",
        "      frame_path = os.path.join(target_dir, f'{count}.jpg')\n",
        "      cv2.imwrite(frame_path, image)     # save frame as JPEG file\n",
        "      count += 1\n",
        "      success, image = vidcap.read()\n",
        "      success, image = vidcap.read()\n",
        "      success, image = vidcap.read()\n",
        "\n",
        "\n",
        "root = '/home/dataset'\n",
        "frame_root = '/home/temp'\n",
        "labels_path = '/home/hmdb51_org_frames/labels.csv'\n",
        "class_name_to_label_path = '/home/hmdb51_org_frames/class_name_to_label.json'\n",
        "\n",
        "# read files\n",
        "files = []\n",
        "\n",
        "for class_name in os.listdir(root):\n",
        "    for video_name in os.listdir(os.path.join(root, class_name)):\n",
        "        files.append([os.path.join(class_name, video_name), class_name])\n",
        "\n",
        "# normalize labels\n",
        "class_name_to_label = {}\n",
        "current_label = -1\n",
        "\n",
        "for vid in files:\n",
        "    label = class_name_to_label.get(vid[1], -1)\n",
        "\n",
        "    if label == -1:\n",
        "        current_label += 1\n",
        "        class_name_to_label[vid[1]] = current_label\n",
        "        label = current_label\n",
        "\n",
        "    vid[1] = label\n",
        "\n",
        "\n",
        "# save file paths\n",
        "if not os.path.exists(os.path.split(labels_path)[0]):\n",
        "    os.makedirs(os.path.split(labels_path)[0])\n",
        "\n",
        "f = open(labels_path, 'w')\n",
        "\n",
        "f.write('path,label\\n')\n",
        "\n",
        "for vid in files:\n",
        "    f.write(f'{vid[0]},{vid[1]}\\n')\n",
        "\n",
        "f.close()\n",
        "\n",
        "# save label normalization\n",
        "if not os.path.exists(os.path.split(class_name_to_label_path)[0]):\n",
        "    os.makedirs(os.path.split(class_name_to_label_path)[0])\n",
        "\n",
        "with open(class_name_to_label_path, 'w') as json_file:\n",
        "    json.dump(class_name_to_label, json_file, indent=4)\n",
        "\n",
        "# extract frames\n",
        "for i, vid in enumerate(files):\n",
        "    file_path = os.path.join(root, vid[0])\n",
        "    target_dir = os.path.join(frame_root, vid[0])\n",
        "\n",
        "    extract_frames(file_path, target_dir)\n",
        "\n",
        "    print(f'{i+1}/{len(files)}')"
      ],
      "execution_count": 19,
      "outputs": [
        {
          "output_type": "stream",
          "text": [
            "1/5689\n",
            "2/5689\n",
            "3/5689\n",
            "4/5689\n",
            "5/5689\n",
            "6/5689\n",
            "7/5689\n",
            "8/5689\n",
            "9/5689\n",
            "10/5689\n",
            "11/5689\n",
            "12/5689\n",
            "13/5689\n",
            "14/5689\n",
            "15/5689\n",
            "16/5689\n",
            "17/5689\n",
            "18/5689\n",
            "19/5689\n",
            "20/5689\n",
            "21/5689\n",
            "22/5689\n",
            "23/5689\n",
            "24/5689\n",
            "25/5689\n",
            "26/5689\n",
            "27/5689\n",
            "28/5689\n",
            "29/5689\n",
            "30/5689\n",
            "31/5689\n",
            "32/5689\n",
            "33/5689\n",
            "34/5689\n",
            "35/5689\n",
            "36/5689\n",
            "37/5689\n",
            "38/5689\n",
            "39/5689\n",
            "40/5689\n",
            "41/5689\n",
            "42/5689\n",
            "43/5689\n",
            "44/5689\n",
            "45/5689\n",
            "46/5689\n",
            "47/5689\n",
            "48/5689\n"
          ],
          "name": "stdout"
        },
        {
          "output_type": "error",
          "ename": "KeyboardInterrupt",
          "evalue": "ignored",
          "traceback": [
            "\u001b[0;31m---------------------------------------------------------------------------\u001b[0m",
            "\u001b[0;31mKeyboardInterrupt\u001b[0m                         Traceback (most recent call last)",
            "\u001b[0;32m<ipython-input-19-b03fb8671734>\u001b[0m in \u001b[0;36m<module>\u001b[0;34m()\u001b[0m\n\u001b[1;32m     71\u001b[0m     \u001b[0mtarget_dir\u001b[0m \u001b[0;34m=\u001b[0m \u001b[0mos\u001b[0m\u001b[0;34m.\u001b[0m\u001b[0mpath\u001b[0m\u001b[0;34m.\u001b[0m\u001b[0mjoin\u001b[0m\u001b[0;34m(\u001b[0m\u001b[0mframe_root\u001b[0m\u001b[0;34m,\u001b[0m \u001b[0mvid\u001b[0m\u001b[0;34m[\u001b[0m\u001b[0;36m0\u001b[0m\u001b[0;34m]\u001b[0m\u001b[0;34m)\u001b[0m\u001b[0;34m\u001b[0m\u001b[0;34m\u001b[0m\u001b[0m\n\u001b[1;32m     72\u001b[0m \u001b[0;34m\u001b[0m\u001b[0m\n\u001b[0;32m---> 73\u001b[0;31m     \u001b[0mextract_frames\u001b[0m\u001b[0;34m(\u001b[0m\u001b[0mfile_path\u001b[0m\u001b[0;34m,\u001b[0m \u001b[0mtarget_dir\u001b[0m\u001b[0;34m)\u001b[0m\u001b[0;34m\u001b[0m\u001b[0;34m\u001b[0m\u001b[0m\n\u001b[0m\u001b[1;32m     74\u001b[0m \u001b[0;34m\u001b[0m\u001b[0m\n\u001b[1;32m     75\u001b[0m     \u001b[0mprint\u001b[0m\u001b[0;34m(\u001b[0m\u001b[0;34mf'{i+1}/{len(files)}'\u001b[0m\u001b[0;34m)\u001b[0m\u001b[0;34m\u001b[0m\u001b[0;34m\u001b[0m\u001b[0m\n",
            "\u001b[0;32m<ipython-input-19-b03fb8671734>\u001b[0m in \u001b[0;36mextract_frames\u001b[0;34m(file_path, target_dir)\u001b[0m\n\u001b[1;32m     11\u001b[0m     \u001b[0;32mwhile\u001b[0m \u001b[0msuccess\u001b[0m\u001b[0;34m:\u001b[0m\u001b[0;34m\u001b[0m\u001b[0;34m\u001b[0m\u001b[0m\n\u001b[1;32m     12\u001b[0m       \u001b[0mframe_path\u001b[0m \u001b[0;34m=\u001b[0m \u001b[0mos\u001b[0m\u001b[0;34m.\u001b[0m\u001b[0mpath\u001b[0m\u001b[0;34m.\u001b[0m\u001b[0mjoin\u001b[0m\u001b[0;34m(\u001b[0m\u001b[0mtarget_dir\u001b[0m\u001b[0;34m,\u001b[0m \u001b[0;34mf'{count}.jpg'\u001b[0m\u001b[0;34m)\u001b[0m\u001b[0;34m\u001b[0m\u001b[0;34m\u001b[0m\u001b[0m\n\u001b[0;32m---> 13\u001b[0;31m       \u001b[0mcv2\u001b[0m\u001b[0;34m.\u001b[0m\u001b[0mimwrite\u001b[0m\u001b[0;34m(\u001b[0m\u001b[0mframe_path\u001b[0m\u001b[0;34m,\u001b[0m \u001b[0mimage\u001b[0m\u001b[0;34m)\u001b[0m     \u001b[0;31m# save frame as JPEG file\u001b[0m\u001b[0;34m\u001b[0m\u001b[0;34m\u001b[0m\u001b[0m\n\u001b[0m\u001b[1;32m     14\u001b[0m       \u001b[0mcount\u001b[0m \u001b[0;34m+=\u001b[0m \u001b[0;36m1\u001b[0m\u001b[0;34m\u001b[0m\u001b[0;34m\u001b[0m\u001b[0m\n\u001b[1;32m     15\u001b[0m       \u001b[0msuccess\u001b[0m\u001b[0;34m,\u001b[0m \u001b[0mimage\u001b[0m \u001b[0;34m=\u001b[0m \u001b[0mvidcap\u001b[0m\u001b[0;34m.\u001b[0m\u001b[0mread\u001b[0m\u001b[0;34m(\u001b[0m\u001b[0;34m)\u001b[0m\u001b[0;34m\u001b[0m\u001b[0;34m\u001b[0m\u001b[0m\n",
            "\u001b[0;31mKeyboardInterrupt\u001b[0m: "
          ]
        }
      ]
    },
    {
      "cell_type": "code",
      "metadata": {
        "id": "0NR5G9JfaM-e"
      },
      "source": [
        "# copy frames to drive\n",
        "\n",
        "\n",
        "copy_tree('/home/hmdb51_org_frames', '/content/drive/MyDrive/hmdb51_org_frames', verbose=True)"
      ],
      "execution_count": null,
      "outputs": []
    }
  ]
}