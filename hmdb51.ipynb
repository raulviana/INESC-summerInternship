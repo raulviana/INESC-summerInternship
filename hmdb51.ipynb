{
  "nbformat": 4,
  "nbformat_minor": 5,
  "metadata": {
    "kernelspec": {
      "display_name": "Python 3",
      "language": "python",
      "name": "python3"
    },
    "language_info": {
      "codemirror_mode": {
        "name": "ipython",
        "version": 3
      },
      "file_extension": ".py",
      "mimetype": "text/x-python",
      "name": "python",
      "nbconvert_exporter": "python",
      "pygments_lexer": "ipython3",
      "version": "3.7.10"
    },
    "colab": {
      "name": "hmdb51.ipynb",
      "provenance": []
    }
  },
  "cells": [
    {
      "cell_type": "markdown",
      "metadata": {
        "id": "b17db7ac"
      },
      "source": [
        "### Import packages"
      ],
      "id": "b17db7ac"
    },
    {
      "cell_type": "code",
      "metadata": {
        "id": "2xNRRTDnEYIK"
      },
      "source": [
        ""
      ],
      "id": "2xNRRTDnEYIK",
      "execution_count": null,
      "outputs": []
    },
    {
      "cell_type": "code",
      "metadata": {
        "id": "Hkchx3qMEaWM",
        "outputId": "a3dded28-5722-4944-d075-326644f24530",
        "colab": {
          "base_uri": "https://localhost:8080/"
        }
      },
      "source": [
        "from google.colab import drive\n",
        "drive.mount('/content/drive')"
      ],
      "id": "Hkchx3qMEaWM",
      "execution_count": 1,
      "outputs": [
        {
          "output_type": "stream",
          "text": [
            "Mounted at /content/drive\n"
          ],
          "name": "stdout"
        }
      ]
    },
    {
      "cell_type": "code",
      "metadata": {
        "id": "643648c0"
      },
      "source": [
        "# !pip install av\n",
        "import torch, torchvision\n",
        "import torchvision.transforms as transforms\n",
        "import cv2\n",
        "import os\n",
        "from os import path\n",
        "import json"
      ],
      "id": "643648c0",
      "execution_count": 2,
      "outputs": []
    },
    {
      "cell_type": "markdown",
      "metadata": {
        "id": "52f767d9"
      },
      "source": [
        "### Extract frames from videos and place them inside video name folder"
      ],
      "id": "52f767d9"
    },
    {
      "cell_type": "code",
      "metadata": {
        "id": "73444b38"
      },
      "source": [
        "def extract_frames(file_path, target_dir):\n",
        "    if not os.path.exists(target_dir):\n",
        "        os.makedirs(target_dir)\n",
        "\n",
        "    vidcap = cv2.VideoCapture(file_path)\n",
        "    success, image = vidcap.read()\n",
        "    count = 0\n",
        " \n",
        "    while success:\n",
        "      frame_path = os.path.join(target_dir, f'{count}.jpg')\n",
        "      cv2.imwrite(frame_path, image)     # save frame as JPEG file\n",
        "      count += 1\n",
        "      success, image = vidcap.read()\n",
        "      success, image = vidcap.read()\n",
        "      success, image = vidcap.read()\n",
        "\n",
        "\n",
        "root = '/content/drive/MyDrive/mini_dataset'\n",
        "frame_root = '/content/drive/MyDrive/teste/hmdb51_frames'\n",
        "labels_path = '/content/drive/MyDrive/teste/labels.csv'\n",
        "class_name_to_label_path = '/content/drive/MyDrive/teste/class_name_to_label.json'\n",
        "\n",
        "# read files\n",
        "files = []\n",
        "\n",
        "for class_name in os.listdir(root):\n",
        "    for video_name in os.listdir(os.path.join(root, class_name)):\n",
        "        files.append([os.path.join(class_name, video_name), class_name])\n",
        "\n",
        "# normalize labels\n",
        "class_name_to_label = {}\n",
        "current_label = -1\n",
        "\n",
        "for vid in files:\n",
        "    label = class_name_to_label.get(vid[1], -1)\n",
        "\n",
        "    if label == -1:\n",
        "        current_label += 1\n",
        "        class_name_to_label[vid[1]] = current_label\n",
        "        label = current_label\n",
        "\n",
        "    vid[1] = label\n",
        "\n",
        "\n",
        "# save file paths\n",
        "if not os.path.exists(os.path.split(labels_path)[0]):\n",
        "    os.makedirs(os.path.split(labels_path)[0])\n",
        "\n",
        "f = open(labels_path, 'w')\n",
        "\n",
        "f.write('path,label\\n')\n",
        "\n",
        "for vid in files:\n",
        "    f.write(f'{vid[0]},{vid[1]}\\n')\n",
        "\n",
        "f.close()\n",
        "\n",
        "# save label normalization\n",
        "if not os.path.exists(os.path.split(class_name_to_label_path)[0]):\n",
        "    os.makedirs(os.path.split(class_name_to_label_path)[0])\n",
        "\n",
        "with open(class_name_to_label_path, 'w') as json_file:\n",
        "    json.dump(class_name_to_label, json_file, indent=4)\n",
        "\n",
        "# extract frames\n",
        "for i, vid in enumerate(files):\n",
        "    file_path = os.path.join(root, vid[0])\n",
        "    target_dir = os.path.join(frame_root, vid[0])\n",
        "\n",
        "    extract_frames(file_path, target_dir)\n",
        "\n",
        "    print(f'{i+1}/{len(files)}')\n"
      ],
      "id": "73444b38",
      "execution_count": null,
      "outputs": []
    },
    {
      "cell_type": "markdown",
      "metadata": {
        "id": "6f649ccd"
      },
      "source": [
        "### Split labels csv file into train and validate - 80/20"
      ],
      "id": "6f649ccd"
    },
    {
      "cell_type": "code",
      "metadata": {
        "scrolled": true,
        "id": "623bdf86"
      },
      "source": [
        "import pandas as pd\n",
        "\n",
        "def split(label):\n",
        "    path = '/content/drive/MyDrive/teste'\n",
        "    train = label.sample(frac=0.8, random_state=201)\n",
        "    val = label.drop(train.index)\n",
        "    train.to_csv(path + '/train.csv', mode='a', header=False)\n",
        "    val.to_csv(path + '/val.csv', mode='a', header=False)\n",
        "\n",
        "\n",
        "root = '/content/drive/MyDrive/teste'\n",
        "frame_root = '/content/drive/MyDrive/teste/hmdb51_frames'\n",
        "labels_path = '/content/drive/MyDrive/teste/labels.csv'\n",
        "class_name_to_label_path = '/content/drive/MyDrive/teste/class_name_to_label.json'\n",
        "\n",
        "labels_path = '/content/drive/MyDrive/teste/labels.csv'\n",
        "labels_data = pd.read_csv(labels_path)\n",
        "last_label = labels_data.tail(1)['label']\n",
        "last_label = last_label.iloc[0]\n",
        "max_labels = labels_data.nunique()\n",
        "max_labels= max_labels['label']\n",
        "index = 0\n",
        "\n",
        "for i in range(max_labels):\n",
        "    label = labels_data[labels_data['label'] == index]\n",
        "    split(label)\n",
        "    index +=1 \n"
      ],
      "id": "623bdf86",
      "execution_count": 7,
      "outputs": []
    },
    {
      "cell_type": "markdown",
      "metadata": {
        "id": "b06b0bbb"
      },
      "source": [
        "### Load the images to a model"
      ],
      "id": "b06b0bbb"
    },
    {
      "cell_type": "code",
      "metadata": {
        "id": "3805f1c9",
        "outputId": "463eec6a-6617-431e-80ee-12b4e0064f1e",
        "colab": {
          "base_uri": "https://localhost:8080/",
          "height": 478
        }
      },
      "source": [
        "import pandas as pd\n",
        "from PIL import Image\n",
        "\n",
        "import torch\n",
        "from torch.utils.data import Dataset, DataLoader\n",
        "from skimage import io, transform\n",
        "import matplotlib.pyplot as plt\n",
        "\n",
        "frames_csv_path = '/content/drive/MyDrive/teste/labels.csv'\n",
        "root_path = '/content/drive/MyDrive/teste/hmdb51_frames'\n",
        "\n",
        "class MyDataset(Dataset):\n",
        "  def __init__(self, frames_csv_file, root_dir, transform=None):\n",
        "    self.frames_csv = pd.read_csv(frames_csv_file)\n",
        "    self.root_dir = root_dir\n",
        "    self.transform = transform\n",
        "\n",
        "  def __len__(self):\n",
        "      return len(self.frames_csv)\n",
        "\n",
        "  def __getitem__(self, idx):\n",
        "      if torch.is_tensor(idx):\n",
        "          idx = idx.tolist()\n",
        "\n",
        "      img_name = os.path.join(self.root_dir,\n",
        "                              self.frames_csv.iloc[idx, 0])\n",
        "      print(img_name)\n",
        "      image = Image.open(img_name).convert('RGB')\n",
        "      tag = self.frames_csv.iloc[idx, 1:]\n",
        "      sample = {'image': image, 'tag': tag}\n",
        "\n",
        "      if self.transform:\n",
        "          sample = self.transform(sample)\n",
        "\n",
        "      return sample\n",
        "\n",
        "frames_dataset = MyDataset(frames_csv_path, root_path)\n",
        "\n",
        "fig = plt.figure()\n",
        "\n",
        "for i in range(len(frames_dataset)):\n",
        "    sample = frames_dataset[i]\n",
        "\n",
        "    print(i, sample['image'].shape, sample['tag'].shape)\n",
        "\n",
        "    ax = plt.subplot(1, 4, i + 1)\n",
        "    plt.tight_layout()\n",
        "    ax.set_title('Sample #{}'.format(i))\n",
        "    ax.axis('off')\n",
        "   \n",
        "\n",
        "    if i == 3:\n",
        "        plt.show()\n",
        "        break\n"
      ],
      "id": "3805f1c9",
      "execution_count": 24,
      "outputs": [
        {
          "output_type": "stream",
          "text": [
            "/content/drive/MyDrive/teste/hmdb51_frames/catch/Seldin_Lipovic_-_Willi_Weber__Torwarttraining__catch_f_cm_np1_le_bad_4.avi\n"
          ],
          "name": "stdout"
        },
        {
          "output_type": "error",
          "ename": "IsADirectoryError",
          "evalue": "ignored",
          "traceback": [
            "\u001b[0;31m---------------------------------------------------------------------------\u001b[0m",
            "\u001b[0;31mIsADirectoryError\u001b[0m                         Traceback (most recent call last)",
            "\u001b[0;32m<ipython-input-24-15b5a5e0fb43>\u001b[0m in \u001b[0;36m<module>\u001b[0;34m()\u001b[0m\n\u001b[1;32m     40\u001b[0m \u001b[0;34m\u001b[0m\u001b[0m\n\u001b[1;32m     41\u001b[0m \u001b[0;32mfor\u001b[0m \u001b[0mi\u001b[0m \u001b[0;32min\u001b[0m \u001b[0mrange\u001b[0m\u001b[0;34m(\u001b[0m\u001b[0mlen\u001b[0m\u001b[0;34m(\u001b[0m\u001b[0mframes_dataset\u001b[0m\u001b[0;34m)\u001b[0m\u001b[0;34m)\u001b[0m\u001b[0;34m:\u001b[0m\u001b[0;34m\u001b[0m\u001b[0;34m\u001b[0m\u001b[0m\n\u001b[0;32m---> 42\u001b[0;31m     \u001b[0msample\u001b[0m \u001b[0;34m=\u001b[0m \u001b[0mframes_dataset\u001b[0m\u001b[0;34m[\u001b[0m\u001b[0mi\u001b[0m\u001b[0;34m]\u001b[0m\u001b[0;34m\u001b[0m\u001b[0;34m\u001b[0m\u001b[0m\n\u001b[0m\u001b[1;32m     43\u001b[0m \u001b[0;34m\u001b[0m\u001b[0m\n\u001b[1;32m     44\u001b[0m     \u001b[0mprint\u001b[0m\u001b[0;34m(\u001b[0m\u001b[0mi\u001b[0m\u001b[0;34m,\u001b[0m \u001b[0msample\u001b[0m\u001b[0;34m[\u001b[0m\u001b[0;34m'image'\u001b[0m\u001b[0;34m]\u001b[0m\u001b[0;34m.\u001b[0m\u001b[0mshape\u001b[0m\u001b[0;34m,\u001b[0m \u001b[0msample\u001b[0m\u001b[0;34m[\u001b[0m\u001b[0;34m'tag'\u001b[0m\u001b[0;34m]\u001b[0m\u001b[0;34m.\u001b[0m\u001b[0mshape\u001b[0m\u001b[0;34m)\u001b[0m\u001b[0;34m\u001b[0m\u001b[0;34m\u001b[0m\u001b[0m\n",
            "\u001b[0;32m<ipython-input-24-15b5a5e0fb43>\u001b[0m in \u001b[0;36m__getitem__\u001b[0;34m(self, idx)\u001b[0m\n\u001b[1;32m     26\u001b[0m                               self.frames_csv.iloc[idx, 0])\n\u001b[1;32m     27\u001b[0m       \u001b[0mprint\u001b[0m\u001b[0;34m(\u001b[0m\u001b[0mimg_name\u001b[0m\u001b[0;34m)\u001b[0m\u001b[0;34m\u001b[0m\u001b[0;34m\u001b[0m\u001b[0m\n\u001b[0;32m---> 28\u001b[0;31m       \u001b[0mimage\u001b[0m \u001b[0;34m=\u001b[0m \u001b[0mImage\u001b[0m\u001b[0;34m.\u001b[0m\u001b[0mopen\u001b[0m\u001b[0;34m(\u001b[0m\u001b[0mimg_name\u001b[0m\u001b[0;34m)\u001b[0m\u001b[0;34m.\u001b[0m\u001b[0mconvert\u001b[0m\u001b[0;34m(\u001b[0m\u001b[0;34m'RGB'\u001b[0m\u001b[0;34m)\u001b[0m\u001b[0;34m\u001b[0m\u001b[0;34m\u001b[0m\u001b[0m\n\u001b[0m\u001b[1;32m     29\u001b[0m       \u001b[0mtag\u001b[0m \u001b[0;34m=\u001b[0m \u001b[0mself\u001b[0m\u001b[0;34m.\u001b[0m\u001b[0mframes_csv\u001b[0m\u001b[0;34m.\u001b[0m\u001b[0miloc\u001b[0m\u001b[0;34m[\u001b[0m\u001b[0midx\u001b[0m\u001b[0;34m,\u001b[0m \u001b[0;36m1\u001b[0m\u001b[0;34m:\u001b[0m\u001b[0;34m]\u001b[0m\u001b[0;34m\u001b[0m\u001b[0;34m\u001b[0m\u001b[0m\n\u001b[1;32m     30\u001b[0m       \u001b[0msample\u001b[0m \u001b[0;34m=\u001b[0m \u001b[0;34m{\u001b[0m\u001b[0;34m'image'\u001b[0m\u001b[0;34m:\u001b[0m \u001b[0mimage\u001b[0m\u001b[0;34m,\u001b[0m \u001b[0;34m'tag'\u001b[0m\u001b[0;34m:\u001b[0m \u001b[0mtag\u001b[0m\u001b[0;34m}\u001b[0m\u001b[0;34m\u001b[0m\u001b[0;34m\u001b[0m\u001b[0m\n",
            "\u001b[0;32m/usr/local/lib/python3.7/dist-packages/PIL/Image.py\u001b[0m in \u001b[0;36mopen\u001b[0;34m(fp, mode)\u001b[0m\n\u001b[1;32m   2841\u001b[0m \u001b[0;34m\u001b[0m\u001b[0m\n\u001b[1;32m   2842\u001b[0m     \u001b[0;32mif\u001b[0m \u001b[0mfilename\u001b[0m\u001b[0;34m:\u001b[0m\u001b[0;34m\u001b[0m\u001b[0;34m\u001b[0m\u001b[0m\n\u001b[0;32m-> 2843\u001b[0;31m         \u001b[0mfp\u001b[0m \u001b[0;34m=\u001b[0m \u001b[0mbuiltins\u001b[0m\u001b[0;34m.\u001b[0m\u001b[0mopen\u001b[0m\u001b[0;34m(\u001b[0m\u001b[0mfilename\u001b[0m\u001b[0;34m,\u001b[0m \u001b[0;34m\"rb\"\u001b[0m\u001b[0;34m)\u001b[0m\u001b[0;34m\u001b[0m\u001b[0;34m\u001b[0m\u001b[0m\n\u001b[0m\u001b[1;32m   2844\u001b[0m         \u001b[0mexclusive_fp\u001b[0m \u001b[0;34m=\u001b[0m \u001b[0;32mTrue\u001b[0m\u001b[0;34m\u001b[0m\u001b[0;34m\u001b[0m\u001b[0m\n\u001b[1;32m   2845\u001b[0m \u001b[0;34m\u001b[0m\u001b[0m\n",
            "\u001b[0;31mIsADirectoryError\u001b[0m: [Errno 21] Is a directory: '/content/drive/MyDrive/teste/hmdb51_frames/catch/Seldin_Lipovic_-_Willi_Weber__Torwarttraining__catch_f_cm_np1_le_bad_4.avi'"
          ]
        },
        {
          "output_type": "display_data",
          "data": {
            "text/plain": [
              "<Figure size 432x288 with 0 Axes>"
            ]
          },
          "metadata": {
            "tags": []
          }
        }
      ]
    }
  ]
}