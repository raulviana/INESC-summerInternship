{
  "nbformat": 4,
  "nbformat_minor": 5,
  "metadata": {
    "kernelspec": {
      "display_name": "Python 3",
      "language": "python",
      "name": "python3"
    },
    "language_info": {
      "codemirror_mode": {
        "name": "ipython",
        "version": 3
      },
      "file_extension": ".py",
      "mimetype": "text/x-python",
      "name": "python",
      "nbconvert_exporter": "python",
      "pygments_lexer": "ipython3",
      "version": "3.7.10"
    },
    "colab": {
      "name": "sliced_data_PC.ipynb",
      "provenance": []
    },
    "accelerator": "GPU",
    "widgets": {
      "application/vnd.jupyter.widget-state+json": {
        "d95b4bf9cfc34c8cb68470022c8166b1": {
          "model_module": "@jupyter-widgets/controls",
          "model_name": "HBoxModel",
          "state": {
            "_view_name": "HBoxView",
            "_dom_classes": [],
            "_model_name": "HBoxModel",
            "_view_module": "@jupyter-widgets/controls",
            "_model_module_version": "1.5.0",
            "_view_count": null,
            "_view_module_version": "1.5.0",
            "box_style": "",
            "layout": "IPY_MODEL_8d997c9d1d474a00b5c5f8ab7732e27b",
            "_model_module": "@jupyter-widgets/controls",
            "children": [
              "IPY_MODEL_9beec0c46d7f4c23994dd134d13df0f9",
              "IPY_MODEL_b2a4d9acf9d3435bae78bf44e069be38"
            ]
          }
        },
        "8d997c9d1d474a00b5c5f8ab7732e27b": {
          "model_module": "@jupyter-widgets/base",
          "model_name": "LayoutModel",
          "state": {
            "_view_name": "LayoutView",
            "grid_template_rows": null,
            "right": null,
            "justify_content": null,
            "_view_module": "@jupyter-widgets/base",
            "overflow": null,
            "_model_module_version": "1.2.0",
            "_view_count": null,
            "flex_flow": null,
            "width": null,
            "min_width": null,
            "border": null,
            "align_items": null,
            "bottom": null,
            "_model_module": "@jupyter-widgets/base",
            "top": null,
            "grid_column": null,
            "overflow_y": null,
            "overflow_x": null,
            "grid_auto_flow": null,
            "grid_area": null,
            "grid_template_columns": null,
            "flex": null,
            "_model_name": "LayoutModel",
            "justify_items": null,
            "grid_row": null,
            "max_height": null,
            "align_content": null,
            "visibility": null,
            "align_self": null,
            "height": null,
            "min_height": null,
            "padding": null,
            "grid_auto_rows": null,
            "grid_gap": null,
            "max_width": null,
            "order": null,
            "_view_module_version": "1.2.0",
            "grid_template_areas": null,
            "object_position": null,
            "object_fit": null,
            "grid_auto_columns": null,
            "margin": null,
            "display": null,
            "left": null
          }
        },
        "9beec0c46d7f4c23994dd134d13df0f9": {
          "model_module": "@jupyter-widgets/controls",
          "model_name": "FloatProgressModel",
          "state": {
            "_view_name": "ProgressView",
            "style": "IPY_MODEL_18d8e999ec6344dbba436fb77c8ac3b1",
            "_dom_classes": [],
            "description": "100%",
            "_model_name": "FloatProgressModel",
            "bar_style": "success",
            "max": 133546016,
            "_view_module": "@jupyter-widgets/controls",
            "_model_module_version": "1.5.0",
            "value": 133546016,
            "_view_count": null,
            "_view_module_version": "1.5.0",
            "orientation": "horizontal",
            "min": 0,
            "description_tooltip": null,
            "_model_module": "@jupyter-widgets/controls",
            "layout": "IPY_MODEL_4819a01c30004314a5677d1e61f24185"
          }
        },
        "b2a4d9acf9d3435bae78bf44e069be38": {
          "model_module": "@jupyter-widgets/controls",
          "model_name": "HTMLModel",
          "state": {
            "_view_name": "HTMLView",
            "style": "IPY_MODEL_47f85de8e06040ac9aa0b6c7bf25ad06",
            "_dom_classes": [],
            "description": "",
            "_model_name": "HTMLModel",
            "placeholder": "​",
            "_view_module": "@jupyter-widgets/controls",
            "_model_module_version": "1.5.0",
            "value": " 127M/127M [00:03&lt;00:00, 34.6MB/s]",
            "_view_count": null,
            "_view_module_version": "1.5.0",
            "description_tooltip": null,
            "_model_module": "@jupyter-widgets/controls",
            "layout": "IPY_MODEL_232ddbb822ae406f9b02b089db1c4519"
          }
        },
        "18d8e999ec6344dbba436fb77c8ac3b1": {
          "model_module": "@jupyter-widgets/controls",
          "model_name": "ProgressStyleModel",
          "state": {
            "_view_name": "StyleView",
            "_model_name": "ProgressStyleModel",
            "description_width": "initial",
            "_view_module": "@jupyter-widgets/base",
            "_model_module_version": "1.5.0",
            "_view_count": null,
            "_view_module_version": "1.2.0",
            "bar_color": null,
            "_model_module": "@jupyter-widgets/controls"
          }
        },
        "4819a01c30004314a5677d1e61f24185": {
          "model_module": "@jupyter-widgets/base",
          "model_name": "LayoutModel",
          "state": {
            "_view_name": "LayoutView",
            "grid_template_rows": null,
            "right": null,
            "justify_content": null,
            "_view_module": "@jupyter-widgets/base",
            "overflow": null,
            "_model_module_version": "1.2.0",
            "_view_count": null,
            "flex_flow": null,
            "width": null,
            "min_width": null,
            "border": null,
            "align_items": null,
            "bottom": null,
            "_model_module": "@jupyter-widgets/base",
            "top": null,
            "grid_column": null,
            "overflow_y": null,
            "overflow_x": null,
            "grid_auto_flow": null,
            "grid_area": null,
            "grid_template_columns": null,
            "flex": null,
            "_model_name": "LayoutModel",
            "justify_items": null,
            "grid_row": null,
            "max_height": null,
            "align_content": null,
            "visibility": null,
            "align_self": null,
            "height": null,
            "min_height": null,
            "padding": null,
            "grid_auto_rows": null,
            "grid_gap": null,
            "max_width": null,
            "order": null,
            "_view_module_version": "1.2.0",
            "grid_template_areas": null,
            "object_position": null,
            "object_fit": null,
            "grid_auto_columns": null,
            "margin": null,
            "display": null,
            "left": null
          }
        },
        "47f85de8e06040ac9aa0b6c7bf25ad06": {
          "model_module": "@jupyter-widgets/controls",
          "model_name": "DescriptionStyleModel",
          "state": {
            "_view_name": "StyleView",
            "_model_name": "DescriptionStyleModel",
            "description_width": "",
            "_view_module": "@jupyter-widgets/base",
            "_model_module_version": "1.5.0",
            "_view_count": null,
            "_view_module_version": "1.2.0",
            "_model_module": "@jupyter-widgets/controls"
          }
        },
        "232ddbb822ae406f9b02b089db1c4519": {
          "model_module": "@jupyter-widgets/base",
          "model_name": "LayoutModel",
          "state": {
            "_view_name": "LayoutView",
            "grid_template_rows": null,
            "right": null,
            "justify_content": null,
            "_view_module": "@jupyter-widgets/base",
            "overflow": null,
            "_model_module_version": "1.2.0",
            "_view_count": null,
            "flex_flow": null,
            "width": null,
            "min_width": null,
            "border": null,
            "align_items": null,
            "bottom": null,
            "_model_module": "@jupyter-widgets/base",
            "top": null,
            "grid_column": null,
            "overflow_y": null,
            "overflow_x": null,
            "grid_auto_flow": null,
            "grid_area": null,
            "grid_template_columns": null,
            "flex": null,
            "_model_name": "LayoutModel",
            "justify_items": null,
            "grid_row": null,
            "max_height": null,
            "align_content": null,
            "visibility": null,
            "align_self": null,
            "height": null,
            "min_height": null,
            "padding": null,
            "grid_auto_rows": null,
            "grid_gap": null,
            "max_width": null,
            "order": null,
            "_view_module_version": "1.2.0",
            "grid_template_areas": null,
            "object_position": null,
            "object_fit": null,
            "grid_auto_columns": null,
            "margin": null,
            "display": null,
            "left": null
          }
        }
      }
    }
  },
  "cells": [
    {
      "cell_type": "markdown",
      "metadata": {
        "id": "VhkpK-u0xo75"
      },
      "source": [
        "function ClickConnect(){\n",
        "    console.log(\"Clicked on connect button\"); \n",
        "    document.querySelector(\"colab-connect-button\").click()\n",
        "}\n",
        "setInterval(ClickConnect,60000)"
      ],
      "id": "VhkpK-u0xo75"
    },
    {
      "cell_type": "markdown",
      "metadata": {
        "id": "fdeeb981"
      },
      "source": [
        "### Import packages"
      ],
      "id": "fdeeb981"
    },
    {
      "cell_type": "code",
      "metadata": {
        "id": "xzwS02XfR7C7",
        "colab": {
          "base_uri": "https://localhost:8080/"
        },
        "outputId": "829776fe-a457-47c6-f10d-6e475fdbf6d4"
      },
      "source": [
        "from google.colab import drive\n",
        "drive.mount('/content/drive')"
      ],
      "id": "xzwS02XfR7C7",
      "execution_count": 1,
      "outputs": [
        {
          "output_type": "stream",
          "text": [
            "Mounted at /content/drive\n"
          ],
          "name": "stdout"
        }
      ]
    },
    {
      "cell_type": "code",
      "metadata": {
        "id": "HPuS4rA7SPGB"
      },
      "source": [
        "! cp -vR /content/drive/MyDrive/mini_dataset /teste"
      ],
      "id": "HPuS4rA7SPGB",
      "execution_count": null,
      "outputs": []
    },
    {
      "cell_type": "code",
      "metadata": {
        "id": "38ef1b20",
        "colab": {
          "base_uri": "https://localhost:8080/"
        },
        "outputId": "55080f91-147c-4d3f-aa1a-8b47ead7dd4a"
      },
      "source": [
        "\n",
        "import torch\n",
        "import torch.nn as nn\n",
        "import torchvision\n",
        "from torchvision import datasets, models, transforms\n",
        "import torch.optim as optim\n",
        "from torch.optim import lr_scheduler\n",
        "import cv2\n",
        "import os\n",
        "from os import path\n",
        "import json\n",
        "import time\n",
        "import copy\n",
        "import numpy as np\n",
        "import matplotlib.pyplot as plt\n",
        "from enum import Enum\n",
        "\n",
        "import pandas as pd\n",
        "from PIL import Image\n",
        "import random\n",
        "import torchvision.transforms as T\n",
        "from torch.utils.data import Dataset\n",
        "\n",
        "#if gpu, use it\n",
        "device = torch.device(\"cuda:0\" if torch.cuda.is_available() else \"cpu\")\n",
        "print(device)"
      ],
      "id": "38ef1b20",
      "execution_count": 3,
      "outputs": [
        {
          "output_type": "stream",
          "text": [
            "cuda:0\n"
          ],
          "name": "stdout"
        }
      ]
    },
    {
      "cell_type": "markdown",
      "metadata": {
        "id": "9e2b5948"
      },
      "source": [
        "### Extract frames from videos and place them inside video name folder"
      ],
      "id": "9e2b5948"
    },
    {
      "cell_type": "code",
      "metadata": {
        "id": "88f3e612"
      },
      "source": [
        " def extract_frames(file_path, target_dir):\n",
        "    if not os.path.exists(target_dir):\n",
        "        os.makedirs(target_dir)\n",
        "\n",
        "    vidcap = cv2.VideoCapture(file_path)\n",
        "    success, image = vidcap.read()\n",
        "    count = 0\n",
        " \n",
        "    while success:\n",
        "        frame_path = os.path.join(target_dir, f'{count}.jpg')\n",
        "        cv2.imwrite(frame_path, image)     # save frame as JPEG file\n",
        "        count += 1\n",
        "        success, image = vidcap.read()\n",
        "        success, image = vidcap.read()\n",
        "        success, image = vidcap.read()\n",
        "\n",
        "\n",
        "root = '/teste'\n",
        "frame_root = '/teste/data/frames'\n",
        "labels_path = '/teste/data/labels.csv'\n",
        "class_name_to_label_path = '/teste/data/class_name_to_label.json'\n",
        "\n",
        "#read files\n",
        "files = []\n",
        "\n",
        "for class_name in os.listdir(root):\n",
        "    for video_name in os.listdir(os.path.join(root, class_name)):\n",
        "         files.append([os.path.join(class_name, video_name), class_name])\n",
        "\n",
        "#normalize labels\n",
        "class_name_to_label = {}\n",
        "current_label = -1\n",
        "\n",
        "for vid in files:\n",
        "    label = class_name_to_label.get(vid[1], -1)\n",
        "\n",
        "    if label == -1:\n",
        "        current_label += 1\n",
        "        class_name_to_label[vid[1]] = current_label\n",
        "        label = current_label\n",
        "\n",
        "    vid[1] = label\n",
        "\n",
        "\n",
        "# save file paths\n",
        "if not os.path.exists(os.path.split(labels_path)[0]):\n",
        "     os.makedirs(os.path.split(labels_path)[0])\n",
        "\n",
        "f = open(labels_path, 'w')\n",
        "\n",
        "f.write('path,label\\n')\n",
        "\n",
        "for vid in files:\n",
        "    f.write(f'{vid[0]},{vid[1]}\\n')\n",
        "\n",
        "f.close()\n",
        "\n",
        " # save label normalization\n",
        "if not os.path.exists(os.path.split(class_name_to_label_path)[0]):\n",
        "    os.makedirs(os.path.split(class_name_to_label_path)[0])\n",
        "\n",
        "with open(class_name_to_label_path, 'w') as json_file:\n",
        "    json.dump(class_name_to_label, json_file, indent=4)\n",
        "\n",
        "# extract frames\n",
        "for i, vid in enumerate(files):\n",
        "    file_path = os.path.join(root, vid[0])\n",
        "    target_dir = os.path.join(frame_root, vid[0])\n",
        "\n",
        "    extract_frames(file_path, target_dir)\n",
        "\n",
        "    print(f'{i+1}/{len(files)}')"
      ],
      "id": "88f3e612",
      "execution_count": null,
      "outputs": []
    },
    {
      "cell_type": "markdown",
      "metadata": {
        "id": "f8313adf"
      },
      "source": [
        "### Split labels csv file into train and validate - 80/20"
      ],
      "id": "f8313adf"
    },
    {
      "cell_type": "code",
      "metadata": {
        "scrolled": true,
        "id": "59fda1df",
        "colab": {
          "base_uri": "https://localhost:8080/"
        },
        "outputId": "3de49c7d-d662-438e-f1ff-a95a9cc15aba"
      },
      "source": [
        " import pandas as pd\n",
        "\n",
        "def split(label, path):\n",
        "    train = label.sample(frac=0.8, random_state=201)\n",
        "    val = label.drop(train.index)\n",
        "    train.to_csv(path + '/train.csv', mode='a', header=False)\n",
        "    val.to_csv(path + '/val.csv', mode='a', header=False)\n",
        "\n",
        "\n",
        "root = '/teste/data'\n",
        "frame_root = '/teste/data/frames'\n",
        "labels_path = '/teste/data/labels.csv'\n",
        "class_name_to_label_path = '/teste/data/class_name_to_label.json'\n",
        "\n",
        "labels_data = pd.read_csv(labels_path)\n",
        "last_label = labels_data.tail(1)['label']\n",
        "last_label = last_label.iloc[0]\n",
        "max_labels = labels_data.nunique()\n",
        "max_labels = max_labels['label']\n",
        "print(max_labels)\n",
        "index = 0\n",
        "\n",
        "for i in range(max_labels):\n",
        "    label = labels_data[labels_data['label'] == index]\n",
        "    split(label, root)\n",
        "    index +=1"
      ],
      "id": "59fda1df",
      "execution_count": 5,
      "outputs": [
        {
          "output_type": "stream",
          "text": [
            "4\n"
          ],
          "name": "stdout"
        }
      ]
    },
    {
      "cell_type": "markdown",
      "metadata": {
        "id": "4a01d179"
      },
      "source": [
        "### custom dataset"
      ],
      "id": "4a01d179"
    },
    {
      "cell_type": "code",
      "metadata": {
        "id": "f476ebcf"
      },
      "source": [
        "\n",
        "train_csv_path = '/teste/data/train.csv'\n",
        "validate_csv_path = '/teste/data/val.csv'\n",
        "root_path = '/teste/data/frames'\n",
        "\n",
        "class MyDataset(Dataset):\n",
        "    def __init__(self, frames_csv_file, root_dir):\n",
        "        self.frames_csv = pd.read_csv(frames_csv_file)\n",
        "        self.root_dir = root_dir\n",
        "        self.slice_size = 10\n",
        "\n",
        "    def __len__(self):\n",
        "        return len(self.frames_csv)\n",
        "\n",
        "    def __getitem__(self, idx):\n",
        "        if torch.is_tensor(idx):\n",
        "            idx = idx.tolist()\n",
        "      \n",
        "      #need to take 10 frames and stack them on 1 tensor                                                    \n",
        "      #()-> second index has to be 1 because id column (3 columns) \n",
        "      #()-> why have to be NOT??? is wrong!! but works..\n",
        "        all_frames = [f for f in os.listdir(os.path.join(self.root_dir, str(self.frames_csv.iloc[idx, 1]))) if not os.path.isfile(f)]\n",
        "      #random get 10 consecutive frames from all video frames in folder\n",
        "        if len(all_frames) > (self.slice_size):\n",
        "            start = random.randrange(len(all_frames) - self.slice_size)\n",
        "            frames = all_frames[start: start + self.slice_size]\n",
        "        else:\n",
        "            frames = all_frames\n",
        "      \n",
        "        images = []\n",
        "      #load the images\n",
        "        for frame in frames:\n",
        "            path = os.path.join(self.root_dir, str(self.frames_csv.iloc[idx, 1])) + '/' + frame\n",
        "            images.append(Image.open(path).convert('RGB'))\n",
        "        transform = transforms.Compose([\n",
        "                    T.Resize((240, 320),),\n",
        "                    T.ToTensor(),\n",
        "                    T.Normalize(mean = [0.43216, 0.394666, 0.37645], std = [0.22803, 0.22145, 0.216989])])\n",
        "        #apply tansforms and condense all the images in 1 tensor\n",
        "        tensors = []\n",
        "        for image in images:\n",
        "            tensors.append(transform(image))            \n",
        "        final_image = torch.stack(tensors, dim=1)\n",
        "        tag = int(self.frames_csv.iloc[idx, 2])\n",
        "        return final_image, tag\n",
        "\n",
        "train_dataset = MyDataset(train_csv_path, root_path)\n",
        "validate_dataset = MyDataset(validate_csv_path, root_path)\n"
      ],
      "id": "f476ebcf",
      "execution_count": 6,
      "outputs": []
    },
    {
      "cell_type": "markdown",
      "metadata": {
        "id": "XtmNWZEPx3GN"
      },
      "source": [
        "## dataloaders"
      ],
      "id": "XtmNWZEPx3GN"
    },
    {
      "cell_type": "code",
      "metadata": {
        "id": "8cd1207d"
      },
      "source": [
        "\n",
        "from torch.utils.data import DataLoader\n",
        "\n",
        "train_dataloader = DataLoader(train_dataset, batch_size=5, shuffle=True)\n",
        "validate_dataloader = DataLoader(validate_dataset, batch_size=5, shuffle=True)"
      ],
      "id": "8cd1207d",
      "execution_count": 7,
      "outputs": []
    },
    {
      "cell_type": "markdown",
      "metadata": {
        "id": "abovlZX1x5-V"
      },
      "source": [
        "## training loop"
      ],
      "id": "abovlZX1x5-V"
    },
    {
      "cell_type": "code",
      "metadata": {
        "id": "215f13dd"
      },
      "source": [
        "def train_model(model, criterion, optimizer, scheduler, stats, num_epochs=25):\n",
        "    since = time.time()\n",
        "    \n",
        "    best_model_wts = copy.deepcopy(model.state_dict())\n",
        "    best_acc = 0.0\n",
        "\n",
        "    for epoch in range(num_epochs):\n",
        "        print('Epoch {}/{}'.format(epoch, num_epochs - 1))\n",
        "        print('-' * 10)\n",
        "\n",
        "        # Each epoch has a training and validation phase\n",
        "        for phase in ['train', 'val']:\n",
        "            if phase == 'train':\n",
        "                model.train()  # Set model to training mode\n",
        "            else:\n",
        "                model.eval()   # Set model to evaluate mode\n",
        "\n",
        "            running_loss = 0.0\n",
        "            running_corrects = 0\n",
        "\n",
        "            # Iterate over data.\n",
        "            if phase == 'train':\n",
        "                data, tag = next(iter(train_dataloader))\n",
        "                for data, tag in train_dataloader:\n",
        "                    data = data.to(device)\n",
        "                    tag = tag.to(device)\n",
        "\n",
        "              # zero the parameter gradients\n",
        "                    optimizer.zero_grad()\n",
        "\n",
        "              # forward\n",
        "              # track history if only in train\n",
        "                    with torch.set_grad_enabled(phase == 'train'):\n",
        "                        outputs = model(data)\n",
        "                        _, preds = torch.max(outputs, 1)\n",
        "                        loss = criterion(outputs, tag)\n",
        "    # backward + optimize only if in training phase\n",
        "                        loss.backward()\n",
        "                        optimizer.step()\n",
        "                  \n",
        "\n",
        "              # statistics\n",
        "                    running_loss += loss.item() * data.size(0)\n",
        "                    running_corrects += torch.sum(preds == tag)\n",
        "            \n",
        "                    scheduler.step()\n",
        "                    #unindent this!\n",
        "                epoch_loss = running_loss / len(train_dataset)\n",
        "                epoch_acc = running_corrects.double() / len(train_dataset)\n",
        "                stats[phase + '_loss'].append(float(epoch_loss))\n",
        "                stats[phase + '_acc'].append(float(epoch_acc))\n",
        "            else:\n",
        "                for data, tag in validate_dataloader:\n",
        "                    data, tag = next(iter(validate_dataloader))\n",
        "                    data = data.to(device)\n",
        "                    tag = tag.to(device)\n",
        "\n",
        "                # zero the parameter gradients\n",
        "                    optimizer.zero_grad()\n",
        "\n",
        "                # forward\n",
        "                # track history if only in train\n",
        "                    with torch.set_grad_enabled(phase == 'train'):\n",
        "                        outputs = model(data)\n",
        "                        _, preds = torch.max(outputs, 1)\n",
        "                        loss = criterion(outputs, tag)\n",
        "\n",
        "                # statistics\n",
        "                    running_loss += loss.item() * data.size(0)\n",
        "                    running_corrects += torch.sum(preds == tag)\n",
        "                    #unindent this!\n",
        "                epoch_loss = running_loss / len(validate_dataset)\n",
        "                epoch_acc = running_corrects.double() / len(validate_dataset)\n",
        "                stats[phase + '_loss'].append(float(epoch_loss))\n",
        "                stats[phase + '_acc'].append(float(epoch_acc))\n",
        "\n",
        "            print('{} Loss: {:.4f} Acc: {:.4f}'.format(\n",
        "                phase, epoch_loss, epoch_acc))\n",
        "\n",
        "            # deep copy the model\n",
        "            if phase == 'val' and epoch_acc > best_acc:\n",
        "                best_acc = epoch_acc\n",
        "                best_model_wts = copy.deepcopy(model.state_dict())\n",
        "\n",
        "        print()\n",
        "\n",
        "    time_elapsed = time.time() - since\n",
        "    print('Training complete in {:.0f}m {:.0f}s'.format(\n",
        "        time_elapsed // 60, time_elapsed % 60))\n",
        "    print('Best val Acc: {:4f}'.format(best_acc))\n",
        "\n",
        "    # load best model weights\n",
        "    model.load_state_dict(best_model_wts)\n",
        "    return model"
      ],
      "id": "215f13dd",
      "execution_count": 8,
      "outputs": []
    },
    {
      "cell_type": "markdown",
      "metadata": {
        "id": "VQzk6B_ix9Ft"
      },
      "source": [
        "## prepare the model"
      ],
      "id": "VQzk6B_ix9Ft"
    },
    {
      "cell_type": "code",
      "metadata": {
        "id": "d089ba0a",
        "colab": {
          "base_uri": "https://localhost:8080/",
          "height": 83,
          "referenced_widgets": [
            "d95b4bf9cfc34c8cb68470022c8166b1",
            "8d997c9d1d474a00b5c5f8ab7732e27b",
            "9beec0c46d7f4c23994dd134d13df0f9",
            "b2a4d9acf9d3435bae78bf44e069be38",
            "18d8e999ec6344dbba436fb77c8ac3b1",
            "4819a01c30004314a5677d1e61f24185",
            "47f85de8e06040ac9aa0b6c7bf25ad06",
            "232ddbb822ae406f9b02b089db1c4519"
          ]
        },
        "outputId": "59dc37f3-6462-4fbc-a712-44368b4dc53f"
      },
      "source": [
        "class_name_to_label_path = '/teste/data/class_name_to_label.json'\n",
        "f = open(class_name_to_label_path)\n",
        "classes = json.load(f)\n",
        "f.close()\n",
        "\n",
        "model_ft = torchvision.models.video.r3d_18(pretrained=True, progress=True)\n",
        "\n",
        "# Here the size of each output sample is set to 2.\n",
        "# Alternatively, it can be generalized to nn.Linear(num_ftrs, len(class_names)).\n",
        "model_ft.fc = nn.Linear(512, len(classes))\n",
        "\n",
        "model_ft = model_ft.to(device)\n",
        "\n",
        "criterion = nn.CrossEntropyLoss()\n",
        "\n",
        "# Observe that all parameters are being optimized\n",
        "optimizer_ft = torch.optim.Adam(model_ft.parameters(), lr=0.001, betas=(0.9, 0.999), eps=1e-08, weight_decay=0, amsgrad=False)\n",
        "\n",
        "# Decay LR by a factor of 0.1 every 7 epochs\n",
        "exp_lr_scheduler = lr_scheduler.StepLR(optimizer_ft, step_size=5, gamma=0.1)"
      ],
      "id": "d089ba0a",
      "execution_count": 9,
      "outputs": [
        {
          "output_type": "stream",
          "text": [
            "Downloading: \"https://download.pytorch.org/models/r3d_18-b3b3357e.pth\" to /root/.cache/torch/hub/checkpoints/r3d_18-b3b3357e.pth\n"
          ],
          "name": "stderr"
        },
        {
          "output_type": "display_data",
          "data": {
            "application/vnd.jupyter.widget-view+json": {
              "model_id": "d95b4bf9cfc34c8cb68470022c8166b1",
              "version_minor": 0,
              "version_major": 2
            },
            "text/plain": [
              "HBox(children=(FloatProgress(value=0.0, max=133546016.0), HTML(value='')))"
            ]
          },
          "metadata": {
            "tags": []
          }
        },
        {
          "output_type": "stream",
          "text": [
            "\n"
          ],
          "name": "stdout"
        }
      ]
    },
    {
      "cell_type": "code",
      "metadata": {
        "id": "ebdb15d8"
      },
      "source": [
        "## train and evaluate"
      ],
      "id": "ebdb15d8",
      "execution_count": null,
      "outputs": []
    },
    {
      "cell_type": "code",
      "metadata": {
        "id": "cd535171",
        "colab": {
          "base_uri": "https://localhost:8080/"
        },
        "outputId": "220910c8-826b-48a0-f96b-7792b13184dc"
      },
      "source": [
        "stats = {'train_loss':[], 'train_acc':[], 'val_loss':[], 'val_acc':[]}\n",
        "num_epochs=20\n",
        "model_ft = train_model(model_ft, criterion, optimizer_ft, exp_lr_scheduler, stats, num_epochs)\n"
      ],
      "id": "cd535171",
      "execution_count": 10,
      "outputs": [
        {
          "output_type": "stream",
          "text": [
            "Epoch 0/9\n",
            "----------\n",
            "train Loss: 1.1778 Acc: 0.5441\n",
            "val Loss: 1.0090 Acc: 0.6471\n",
            "\n",
            "Epoch 1/9\n",
            "----------\n",
            "train Loss: 1.2078 Acc: 0.5088\n",
            "val Loss: 1.1886 Acc: 0.5294\n",
            "\n",
            "Epoch 2/9\n",
            "----------\n",
            "train Loss: 1.1282 Acc: 0.5147\n",
            "val Loss: 1.0380 Acc: 0.5882\n",
            "\n",
            "Epoch 3/9\n",
            "----------\n",
            "train Loss: 1.1412 Acc: 0.5294\n",
            "val Loss: 1.2570 Acc: 0.5412\n",
            "\n",
            "Epoch 4/9\n",
            "----------\n",
            "train Loss: 1.1454 Acc: 0.5382\n",
            "val Loss: 1.0330 Acc: 0.6353\n",
            "\n",
            "Epoch 5/9\n",
            "----------\n",
            "train Loss: 1.1080 Acc: 0.5500\n",
            "val Loss: 0.9120 Acc: 0.6000\n",
            "\n",
            "Epoch 6/9\n",
            "----------\n",
            "train Loss: 1.1306 Acc: 0.5294\n",
            "val Loss: 1.2982 Acc: 0.4706\n",
            "\n",
            "Epoch 7/9\n",
            "----------\n",
            "train Loss: 1.1770 Acc: 0.5088\n",
            "val Loss: 1.1041 Acc: 0.5294\n",
            "\n",
            "Epoch 8/9\n",
            "----------\n",
            "train Loss: 1.1302 Acc: 0.5412\n",
            "val Loss: 1.1855 Acc: 0.5294\n",
            "\n",
            "Epoch 9/9\n",
            "----------\n",
            "train Loss: 1.1619 Acc: 0.5118\n",
            "val Loss: 1.3128 Acc: 0.4824\n",
            "\n",
            "Training complete in 35m 45s\n",
            "Best val Acc: 0.647059\n"
          ],
          "name": "stdout"
        }
      ]
    },
    {
      "cell_type": "markdown",
      "metadata": {
        "id": "Psj7atDhyA_t"
      },
      "source": [
        "## Show results graphs"
      ],
      "id": "Psj7atDhyA_t"
    },
    {
      "cell_type": "code",
      "metadata": {
        "id": "03eba39c",
        "colab": {
          "base_uri": "https://localhost:8080/",
          "height": 759
        },
        "outputId": "f199c754-115d-45b8-ecc0-e3d98a2ae7f2"
      },
      "source": [
        "\n",
        "fig, ax = plt.subplots(figsize=(12, 6))\n",
        "x = np.arange(0, 10, 0.1)\n",
        "y = stats['train_loss']\n",
        "z = stats['val_loss']\n",
        "ax.plot(y, color='blue', label='train_loss')\n",
        "ax.plot(z, color='grey', label='val_loss')\n",
        "ax.set_xlabel('epochs')\n",
        "ax.set_ylabel('loss value')\n",
        "ax.legend()\n",
        "plt.show()\n",
        "\n",
        "fig, ax = plt.subplots(figsize=(12, 6))\n",
        "y = stats['train_acc']\n",
        "z = stats['val_acc']\n",
        "ax.plot(y, color='blue', label='train_acc')\n",
        "ax.plot(z, color='grey', label='val_acc')\n",
        "ax.set_xlabel('epochs')\n",
        "ax.set_ylabel('acc value')\n",
        "ax.legend()\n",
        "plt.show()\n"
      ],
      "id": "03eba39c",
      "execution_count": 16,
      "outputs": [
        {
          "output_type": "display_data",
          "data": {
            "image/png": "[encoded data removed]",
            "text/plain": [
              "<Figure size 864x432 with 1 Axes>"
            ]
          },
          "metadata": {
            "tags": [],
            "needs_background": "light"
          }
        },
        {
          "output_type": "display_data",
          "data": {
            "image/png": "[encoded data removed]",
            "text/plain": [
              "<Figure size 864x432 with 1 Axes>"
            ]
          },
          "metadata": {
            "tags": [],
            "needs_background": "light"
          }
        }
      ]
    }
  ]
}